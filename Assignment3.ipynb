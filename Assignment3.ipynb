{
 "cells": [
  {
   "cell_type": "code",
   "execution_count": 14,
   "id": "4f0dab19-6b64-4770-ad61-65446cc4d3b1",
   "metadata": {},
   "outputs": [
    {
     "data": {
      "text/plain": [
       "[('Virat Kohli', 24936),\n",
       " ('Jack Kallis', 25534),\n",
       " ('Ricky Ponting', 27483),\n",
       " ('Sachin Tendulkar', 34357)]"
      ]
     },
     "execution_count": 14,
     "metadata": {},
     "output_type": "execute_result"
    }
   ],
   "source": [
    "\"\"\" Q1. Create a python program to sort the given list of tuples based on integer\n",
    "value using alambda function.\n",
    "[('Sachin Tendulkar', 34357), ('Ricky Ponting', 27483), ('Jack Kallis', 25534),\n",
    "('Virat Kohli', 24936)] \"\"\"\n",
    "\n",
    "l=[('Sachin Tendulkar', 34357), ('Ricky Ponting', 27483), ('Jack Kallis', 25534),\n",
    "('Virat Kohli', 24936)]\n",
    "sort=sorted(l,key=lambda x : x[1])\n",
    "sort"
   ]
  },
  {
   "cell_type": "code",
   "execution_count": 15,
   "id": "002e462e-d0c0-4075-b5e2-893a203a66cc",
   "metadata": {},
   "outputs": [
    {
     "data": {
      "text/plain": [
       "[1, 4, 9, 16, 25, 36, 49, 64, 81, 100]"
      ]
     },
     "execution_count": 15,
     "metadata": {},
     "output_type": "execute_result"
    }
   ],
   "source": [
    "\"\"\" Q2. Write a Python Program to find the squares of all the numbers in the given \n",
    "list of integers using lambda and map functions.\n",
    "[1, 2, 3, 4, 5, 6, 7, 8, 9, 10] \"\"\"\n",
    "\n",
    "l=[1, 2, 3, 4, 5, 6, 7, 8, 9, 10]\n",
    "list(map(lambda x : x**2, l))"
   ]
  },
  {
   "cell_type": "code",
   "execution_count": 16,
   "id": "caff419c-643a-49c3-84ff-91e1151fb66d",
   "metadata": {},
   "outputs": [
    {
     "data": {
      "text/plain": [
       "('1', '2', '3', '4', '5', '6', '7', '8', '9', '10')"
      ]
     },
     "execution_count": 16,
     "metadata": {},
     "output_type": "execute_result"
    }
   ],
   "source": [
    "\"\"\" Q3. Write a python program to convert the given list of integers into a tuple of \n",
    "strings. Use map and lambda functions\n",
    "Given String: [1, 2, 3, 4, 5, 6, 7, 8, 9, 10]\n",
    "Expected output: ('1', '2', '3', '4', '5', '6', '7', '8', '9', '10') \"\"\"\n",
    "\n",
    "string=[1, 2, 3, 4, 5, 6, 7, 8, 9, 10]\n",
    "tuple(map(lambda x : str(x), string))"
   ]
  },
  {
   "cell_type": "code",
   "execution_count": 17,
   "id": "34f2ea7b-aea4-49f2-8bd2-85af43443667",
   "metadata": {},
   "outputs": [
    {
     "data": {
      "text/plain": [
       "15511210043330985984000000"
      ]
     },
     "execution_count": 17,
     "metadata": {},
     "output_type": "execute_result"
    }
   ],
   "source": [
    "\"\"\" Q4. Write a python program using reduce function to compute the product of a list containing numbers\n",
    "from 1 to 25. \"\"\"\n",
    "\n",
    "from functools import reduce\n",
    "\n",
    "l=list(range(1,26))\n",
    "reduce(lambda x,y : x*y, l)"
   ]
  },
  {
   "cell_type": "code",
   "execution_count": 19,
   "id": "7561d593-d41c-466f-b619-e88d9fb77214",
   "metadata": {},
   "outputs": [
    {
     "data": {
      "text/plain": [
       "[2, 3, 6, 9, 27, 60, 90, 120, 46]"
      ]
     },
     "execution_count": 19,
     "metadata": {},
     "output_type": "execute_result"
    }
   ],
   "source": [
    "\"\"\" Q5. Write a python program to filter the numbers in a given list that are divisible\n",
    "by 2 and 3 using the filter function.\n",
    "[2, 3, 6, 9, 27, 60, 90, 120, 55, 46] \"\"\"\n",
    "\n",
    "l=[2, 3, 6, 9, 27, 60, 90, 120, 55, 46] \n",
    "list(filter(lambda x : x%2==0 or x%3==0, l))"
   ]
  },
  {
   "cell_type": "code",
   "execution_count": 20,
   "id": "8e8005b1-7aa1-4420-8f31-9a83ac53f4d8",
   "metadata": {},
   "outputs": [
    {
     "data": {
      "text/plain": [
       "['php', 'aba', 'radar', 'level']"
      ]
     },
     "execution_count": 20,
     "metadata": {},
     "output_type": "execute_result"
    }
   ],
   "source": [
    "\"\"\" Q6. Write a python program to find palindromes in the given list of strings using\n",
    "lambda and filter function.\n",
    "['python', 'php', 'aba', 'radar', 'level'] \"\"\"\n",
    "\n",
    "l=['python', 'php', 'aba', 'radar', 'level']\n",
    "list(filter(lambda x : x[0]==x[-1], l))"
   ]
  }
 ],
 "metadata": {
  "kernelspec": {
   "display_name": "Python 3 (ipykernel)",
   "language": "python",
   "name": "python3"
  },
  "language_info": {
   "codemirror_mode": {
    "name": "ipython",
    "version": 3
   },
   "file_extension": ".py",
   "mimetype": "text/x-python",
   "name": "python",
   "nbconvert_exporter": "python",
   "pygments_lexer": "ipython3",
   "version": "3.10.8"
  }
 },
 "nbformat": 4,
 "nbformat_minor": 5
}
